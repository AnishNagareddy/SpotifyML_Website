{
 "cells": [
  {
   "cell_type": "code",
   "execution_count": null,
   "metadata": {},
   "outputs": [],
   "source": [
    "#Import all the basic packages\n",
    "import pandas as pd\n",
    "import spotipy\n",
    "import matplotlib\n",
    "from spotipy.oauth2 import SpotifyOAuth\n",
    "from sklearn.tree import DecisionTreeClassifier\n",
    "from sklearn.pipeline import Pipeline\n",
    "from sklearn.metrics import plot_confusion_matrix\n",
    "from imblearn.over_sampling import SMOTE\n",
    "from sklearn.pipeline import make_pipeline\n",
    "from sklearn.preprocessing import StandardScaler"
   ]
  },
  {
   "cell_type": "code",
   "execution_count": null,
   "metadata": {
    "pycharm": {
     "name": "#%%\n"
    }
   },
   "outputs": [],
   "source": [
    "#Spotipy API user authentication\n",
    "cid = 'f6ade21d86f6443891372a007434a75f'\n",
    "secret = 'df4a7b00a1a64cb7b4b5c4dfa538b095'\n",
    "redirect_uri = 'https://localhost:3000/'\n",
    "scope = 'user-top-read playlist-modify-private playlist-modify-public'\n",
    "sp = spotipy.Spotify(auth_manager=SpotifyOAuth(client_id=cid,\n",
    "                                               client_secret=secret,\n",
    "                                               redirect_uri=redirect_uri,\n",
    "                                               scope=scope))"
   ]
  },
  {
   "cell_type": "code",
   "execution_count": null,
   "metadata": {
    "pycharm": {
     "name": "#%%\n"
    }
   },
   "outputs": [],
   "source": [
    "#grepping the username\n",
    "username = sp.current_user()['href'].split('/')[5]"
   ]
  },
  {
   "cell_type": "code",
   "execution_count": null,
   "metadata": {
    "pycharm": {
     "name": "#%%\n"
    }
   },
   "outputs": [],
   "source": [
    "#take in raw inputs for link and name\n",
    "playlist_name = input(\"Playlist Name: \")\n",
    "playlist_link = input(\"Playlist Link: \")\n",
    "print(\"Creating {} from {}\".format(playlist_name,playlist_link))"
   ]
  },
  {
   "cell_type": "code",
   "execution_count": null,
   "metadata": {
    "pycharm": {
     "name": "#%%\n"
    }
   },
   "outputs": [],
   "source": [
    "#split it just to get the uri\n",
    "playlist_URI = playlist_link.split(\"/\")[-1].split(\"?\")[0]\n",
    "#get the first uri\n",
    "uri = sp.playlist_tracks(playlist_URI)[\"items\"][0][\"track\"][\"uri\"]\n",
    "#create dataframe and input the first\n",
    "df = pd.DataFrame(sp.audio_features(uri))\n",
    "#loop through and add the rest with the artist info\n",
    "track_name = []\n",
    "artist_name = []\n",
    "artist_pop = []\n",
    "track_pop = []\n",
    "for track in sp.playlist_tracks(playlist_URI)[\"items\"]:\n",
    "    uri = track[\"track\"][\"uri\"]\n",
    "    spi = sp.audio_features(uri)\n",
    "    df = df.append(other=pd.DataFrame(spi), ignore_index=True)\n",
    "    #artist info grep\n",
    "    track_name.append(track[\"track\"][\"name\"])\n",
    "    artist_uri = track[\"track\"][\"artists\"][0][\"uri\"]\n",
    "    artist_info = sp.artist(artist_uri)\n",
    "    artist_name.append(track[\"track\"][\"artists\"][0][\"name\"])\n",
    "    artist_pop.append(artist_info[\"popularity\"])\n",
    "    track_pop.append(track[\"track\"][\"popularity\"])\n",
    "#take the first row off and reset the index\n",
    "df = df.drop_duplicates(ignore_index=True)\n",
    "#add the other columns\n",
    "df['track_name'] = track_name\n",
    "df['artist_name'] = artist_name\n",
    "df['artist_pop'] = artist_pop\n",
    "df['track_pop'] = track_pop\n",
    "#remove the unnecessary data\n",
    "drop_cols = ['mode', 'time_signature', 'analysis_url', 'uri', 'track_href', 'type', 'duration_ms']\n",
    "df = df.drop(drop_cols, axis=1)\n",
    "#reorder the columns\n",
    "df = df[['track_name', 'artist_name', 'artist_pop', 'track_pop', 'id', 'danceability', 'energy', 'key', 'loudness',\n",
    "         'speechiness', 'acousticness', 'instrumentalness', 'liveness', 'valence', 'tempo']]"
   ]
  },
  {
   "cell_type": "code",
   "execution_count": null,
   "metadata": {
    "pycharm": {
     "name": "#%%\n"
    }
   },
   "outputs": [],
   "source": [
    "df.head()"
   ]
  },
  {
   "cell_type": "code",
   "execution_count": null,
   "metadata": {
    "pycharm": {
     "name": "#%%\n"
    }
   },
   "outputs": [],
   "source": [
    "#using the Spotipy rec api to get more data on songs similiar to the ones in the track (this can be skipped)\n",
    "rec_song = []\n",
    "for i in df['id'].values.tolist():\n",
    "    rec_song += sp.recommendations(seed_tracks=[i], limit=5)['tracks']\n",
    "rec_song_id = []\n",
    "rec_song_name = []\n",
    "rec_artist_name = []\n",
    "rec_artist_pop = []\n",
    "rec_song_pop = []\n",
    "for i in rec_song:\n",
    "    rec_song_id.append(i['id'])\n",
    "    rec_song_name.append(i['name'])\n",
    "    rec_artist_name.append(i[\"artists\"][0][\"name\"])\n",
    "    artist_uri = i[\"artists\"][0][\"uri\"]\n",
    "    artist_info = sp.artist(artist_uri)\n",
    "    rec_artist_pop.append(artist_info[\"popularity\"])\n",
    "    rec_song_pop.append(i[\"popularity\"])\n",
    "\n",
    "rec_song_features = []\n",
    "for i in range(0, len(rec_song_id)):\n",
    "    rec_audio_features = sp.audio_features(rec_song_id[i])\n",
    "    for track in rec_audio_features:\n",
    "        rec_song_features.append(track)\n",
    "rec_song_playlist = pd.DataFrame(rec_song_features)\n",
    "rec_song_playlist['track_name'] = rec_song_name\n",
    "rec_song_playlist['artist_name'] = rec_artist_name\n",
    "rec_song_playlist['artist_pop'] = rec_artist_pop\n",
    "rec_song_playlist['track_pop'] = rec_song_pop\n",
    "rec_song_playlist = rec_song_playlist.drop(drop_cols, axis=1)\n",
    "rec_song_playlist = rec_song_playlist[\n",
    "    ['track_name', 'artist_name', 'artist_pop', 'track_pop', 'id', 'danceability', 'energy', 'key', 'loudness',\n",
    "     'speechiness', 'acousticness', 'instrumentalness', 'liveness', 'valence', 'tempo']]"
   ]
  },
  {
   "cell_type": "code",
   "execution_count": null,
   "metadata": {
    "pycharm": {
     "name": "#%%\n"
    }
   },
   "outputs": [],
   "source": [
    "rec_song_playlist.head()"
   ]
  },
  {
   "cell_type": "code",
   "execution_count": null,
   "metadata": {
    "pycharm": {
     "name": "#%%\n"
    }
   },
   "outputs": [],
   "source": [
    "#remove duplicates\n",
    "df.drop_duplicates(subset=['id'])\n",
    "#add the favorite column and add 1 to all of the values\n",
    "df['favorite'] = 1"
   ]
  },
  {
   "cell_type": "code",
   "execution_count": null,
   "metadata": {
    "pycharm": {
     "name": "#%%\n"
    }
   },
   "outputs": [],
   "source": [
    "#refine the rec song df\n",
    "rec_song_refined = rec_song_playlist.drop(columns=['track_name', 'artist_name', 'artist_pop', 'track_pop'])\n",
    "#read csv data for all spotify data\n",
    "spotify_df_pre = pd.read_csv('spotify_songs.csv')\n",
    "#combine the two for the entire dataframe\n",
    "frames_total = [rec_song_refined,spotify_df_pre]\n",
    "spotify_df = pd.concat(frames_total)\n",
    "#add the favorite column with zero\n",
    "spotify_df['favorite'] = 0"
   ]
  },
  {
   "cell_type": "code",
   "execution_count": null,
   "metadata": {
    "pycharm": {
     "name": "#%%\n"
    }
   },
   "outputs": [],
   "source": [
    "#make a new data frame with just the data values (the other fave_df id just to see\n",
    "refined_fave_df = df.drop(columns=['track_name', 'artist_name', 'artist_pop', 'track_pop'])"
   ]
  },
  {
   "cell_type": "code",
   "execution_count": null,
   "metadata": {
    "pycharm": {
     "name": "#%%\n"
    }
   },
   "outputs": [],
   "source": [
    "#combine them\n",
    "total_frames = [spotify_df, refined_fave_df]\n",
    "combined_df = pd.concat(total_frames)\n",
    "combined_df = combined_df.dropna(how='any', axis=0)"
   ]
  },
  {
   "cell_type": "code",
   "execution_count": null,
   "metadata": {
    "pycharm": {
     "name": "#%%\n"
    }
   },
   "outputs": [],
   "source": [
    "#finally we will create the model\n",
    "#shuffle the dataset\n",
    "shuffled_c_df = combined_df.sample(frac=1)\n",
    "#make a size for the split\n",
    "split_size = int(0.8 * len(combined_df))\n",
    "#create the splits\n",
    "training_df = shuffled_c_df[:split_size]\n",
    "testing_df = shuffled_c_df[split_size:]"
   ]
  },
  {
   "cell_type": "code",
   "execution_count": null,
   "metadata": {
    "pycharm": {
     "name": "#%%\n"
    }
   },
   "outputs": [],
   "source": [
    "#set the X and y\n",
    "X = training_df.drop(columns=['id', 'favorite'])\n",
    "y = training_df['favorite']\n",
    "#refine the test set\n",
    "X_test = testing_df.drop(columns=['id', 'favorite'])\n",
    "y_test = testing_df['favorite']"
   ]
  },
  {
   "cell_type": "code",
   "execution_count": null,
   "metadata": {
    "pycharm": {
     "name": "#%%\n"
    }
   },
   "outputs": [],
   "source": [
    "#resample using the Synthetic Minority Oversampling Technique to get more favorite songs since it is a ratio of 500 to 8000\n",
    "oversample = SMOTE()\n",
    "X_train, y_train = oversample.fit_resample(X, y)"
   ]
  },
  {
   "cell_type": "code",
   "execution_count": null,
   "metadata": {
    "pycharm": {
     "name": "#%%\n"
    }
   },
   "outputs": [],
   "source": [
    "#train to plots the confusion matrix (hyperparameters found in previous tests --> now are set)\n",
    "dt = DecisionTreeClassifier(max_depth=30).fit(X_train, y_train)\n",
    "#plot a confusion matrix\n",
    "plot_confusion_matrix(dt, X_train, y_train)"
   ]
  },
  {
   "cell_type": "code",
   "execution_count": null,
   "metadata": {
    "pycharm": {
     "name": "#%%\n"
    }
   },
   "outputs": [],
   "source": [
    "#created pipeline to scale te data and re\n",
    "pipe = make_pipeline(StandardScaler(), DecisionTreeClassifier(max_depth=30))\n",
    "pipe.fit(X_train, y_train)\n",
    "Pipeline(steps=[('Scaler', StandardScaler()),('Tree', DecisionTreeClassifier(max_depth=30))])\n",
    "pipe.score(X_test, y_test)"
   ]
  },
  {
   "cell_type": "code",
   "execution_count": null,
   "metadata": {
    "pycharm": {
     "name": "#%%\n"
    }
   },
   "outputs": [],
   "source": [
    "#Created a threshold for user to change to get more or less songs\n",
    "predict_proba = pipe.predict_proba(combined_df.drop(['favorite', 'id'], axis=1))\n",
    "accuracy = 0.999  # threshold can be changed depending on user\n",
    "length_of_predict_proba = len(predict_proba) #length\n",
    "preds = [1 if predict_proba[i][1] > accuracy else 0 for i in range(length_of_predict_proba)]\n",
    "combined_df['prediction'] = preds"
   ]
  },
  {
   "cell_type": "code",
   "execution_count": null,
   "metadata": {
    "pycharm": {
     "name": "#%%\n"
    }
   },
   "outputs": [],
   "source": [
    "#create the datafram with 0 favorite (in database not OG playlist ) and prediction of 1 (songs predicted to fit the model)\n",
    "playlist_df = combined_df[(combined_df['favorite'] == 0) & (combined_df['prediction'] == 1)]"
   ]
  },
  {
   "cell_type": "code",
   "execution_count": null,
   "metadata": {
    "pycharm": {
     "name": "#%%\n"
    }
   },
   "outputs": [],
   "source": [
    "#make them a list to pass in a future function\n",
    "playlist_track_list = playlist_df['id'].tolist()"
   ]
  },
  {
   "cell_type": "code",
   "execution_count": null,
   "metadata": {
    "pycharm": {
     "name": "#%%\n"
    }
   },
   "outputs": [],
   "source": [
    "#create the playlist in the users spotify\n",
    "playlist = sp.user_playlist_create(user=username, name=playlist_name)\n",
    "#get the ID for the playlist to add songs\n",
    "playlist_id = playlist['id']"
   ]
  },
  {
   "cell_type": "code",
   "execution_count": null,
   "metadata": {
    "pycharm": {
     "name": "#%%\n"
    }
   },
   "outputs": [],
   "source": [
    "#add the songs\n",
    "playlist_final = sp.playlist_add_items(playlist_id, playlist_track_list)"
   ]
  },
  {
   "cell_type": "code",
   "execution_count": null,
   "metadata": {
    "pycharm": {
     "name": "#%%\n"
    }
   },
   "outputs": [],
   "source": [
    "#get the url for the playlist\n",
    "playlist_url = (sp.current_user_playlists()['items'][0]['external_urls']).values()"
   ]
  },
  {
   "cell_type": "code",
   "execution_count": null,
   "metadata": {
    "pycharm": {
     "name": "#%%\n"
    }
   },
   "outputs": [],
   "source": [
    "url = \"https://open.spotify.com/embed/playlist/\"+str(playlist_url)[48:].removesuffix(\"'])\")+\"?utm_source=generator\""
   ]
  },
  {
   "cell_type": "code",
   "execution_count": null,
   "metadata": {
    "pycharm": {
     "name": "#%%\n"
    }
   },
   "outputs": [],
   "source": [
    "final_url = \"<iframe src={} width={} height={} frameBorder={}></iframe>\".format(url,\"100%\",\"380\",\"0\")"
   ]
  },
  {
   "cell_type": "code",
   "execution_count": null,
   "metadata": {
    "pycharm": {
     "name": "#%%md\n"
    }
   },
   "outputs": [],
   "source": [
    "from IPython.display import HTML\n",
    "\n",
    "HTML(final_url)"
   ]
  }
 ],
 "metadata": {
  "kernelspec": {
   "display_name": "Python 3 (ipykernel)",
   "language": "python",
   "name": "python3"
  },
  "language_info": {
   "codemirror_mode": {
    "name": "ipython",
    "version": 3
   },
   "file_extension": ".py",
   "mimetype": "text/x-python",
   "name": "python",
   "nbconvert_exporter": "python",
   "pygments_lexer": "ipython3",
   "version": "3.10.1"
  }
 },
 "nbformat": 4,
 "nbformat_minor": 1
}